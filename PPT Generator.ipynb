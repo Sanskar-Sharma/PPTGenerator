{
 "cells": [
  {
   "cell_type": "markdown",
   "metadata": {},
   "source": [
    "# PPT Generator"
   ]
  },
  {
   "cell_type": "code",
   "execution_count": 1,
   "metadata": {},
   "outputs": [
    {
     "name": "stderr",
     "output_type": "stream",
     "text": [
      "C:\\Users\\imbit\\AppData\\Local\\Temp\\ipykernel_6964\\2314480482.py:3: DeprecationWarning: \n",
      "Pyarrow will become a required dependency of pandas in the next major release of pandas (pandas 3.0),\n",
      "(to allow more performant data types, such as the Arrow string type, and better interoperability with other libraries)\n",
      "but was not found to be installed on your system.\n",
      "If this would cause problems for you,\n",
      "please provide us feedback at https://github.com/pandas-dev/pandas/issues/54466\n",
      "        \n",
      "  import pandas as pd\n"
     ]
    }
   ],
   "source": [
    "from dotenv import load_dotenv\n",
    "import os\n",
    "import pandas as pd\n",
    "import numpy as np"
   ]
  },
  {
   "cell_type": "code",
   "execution_count": 2,
   "metadata": {},
   "outputs": [
    {
     "data": {
      "text/plain": [
       "True"
      ]
     },
     "execution_count": 2,
     "metadata": {},
     "output_type": "execute_result"
    }
   ],
   "source": [
    "load_dotenv()"
   ]
  },
  {
   "cell_type": "code",
   "execution_count": 3,
   "metadata": {},
   "outputs": [],
   "source": [
    "google_api_key = os.getenv(\"GOOGLE_API_KEY\")"
   ]
  },
  {
   "cell_type": "code",
   "execution_count": 4,
   "metadata": {},
   "outputs": [],
   "source": [
    "import google.generativeai as genai"
   ]
  },
  {
   "cell_type": "code",
   "execution_count": 5,
   "metadata": {},
   "outputs": [],
   "source": [
    "genai.configure(api_key=google_api_key)"
   ]
  },
  {
   "cell_type": "code",
   "execution_count": 6,
   "metadata": {},
   "outputs": [],
   "source": [
    "model = genai.GenerativeModel('gemini-pro')"
   ]
  },
  {
   "cell_type": "code",
   "execution_count": 59,
   "metadata": {},
   "outputs": [],
   "source": [
    "from IPython.display import display\n",
    "from IPython.display import Markdown\n",
    "\n",
    "\n",
    "def to_markdown(text):\n",
    "  text = text.replace('•', '  *')\n",
    "  return Markdown(textwrap.indent(text, '> ', predicate=lambda _: True))"
   ]
  },
  {
   "cell_type": "markdown",
   "metadata": {},
   "source": [
    "#### List All The DOCX Files\n"
   ]
  },
  {
   "cell_type": "markdown",
   "metadata": {},
   "source": [
    "First We Get All the DocX Files from the folder"
   ]
  },
  {
   "cell_type": "code",
   "execution_count": 8,
   "metadata": {},
   "outputs": [],
   "source": [
    "folder = \"./Data/\""
   ]
  },
  {
   "cell_type": "code",
   "execution_count": 9,
   "metadata": {},
   "outputs": [],
   "source": [
    "import glob"
   ]
  },
  {
   "cell_type": "code",
   "execution_count": 10,
   "metadata": {},
   "outputs": [],
   "source": [
    "def list_docx_files(folder_path):\n",
    "    doc_files = glob.glob(os.path.join(folder_path,\"*.docx\"))\n",
    "    return doc_files"
   ]
  },
  {
   "cell_type": "code",
   "execution_count": 11,
   "metadata": {},
   "outputs": [],
   "source": [
    "files = list_docx_files(folder)"
   ]
  },
  {
   "cell_type": "code",
   "execution_count": 52,
   "metadata": {},
   "outputs": [],
   "source": [
    "from langchain_community.document_loaders import Docx2txtLoader\n",
    "from langchain.text_splitter import RecursiveCharacterTextSplitter\n",
    "from langchain_google_genai import GoogleGenerativeAIEmbeddings\n",
    "from langchain_community.vectorstores import Chroma"
   ]
  },
  {
   "cell_type": "code",
   "execution_count": 62,
   "metadata": {},
   "outputs": [],
   "source": [
    "loader  = Docx2txtLoader(files[0])\n",
    "data = loader.load()\n",
    "\n",
    "text_splitter =  RecursiveCharacterTextSplitter(chunk_size =10000,chunk_overlap = 1000)\n",
    "docs = text_splitter.split_documents(data)\n",
    "\n",
    "model = 'models/embedding-001'\n",
    "\n",
    "embedding = GoogleGenerativeAIEmbeddings(\n",
    "    model = model, \n",
    "    task_type='retrieval_document'\n",
    ")\n",
    "db =Chroma.from_documents(docs,embedding= embedding,persist_directory=\"./Data/tempchroma_db\")\n"
   ]
  },
  {
   "cell_type": "code",
   "execution_count": 13,
   "metadata": {},
   "outputs": [],
   "source": [
    "def extract_content_from_files(folder_path):\n",
    "    frame = []\n",
    "    doc_files = glob.glob(os.path.join(folder_path,\"*.docx\"))\n",
    "    for file in doc_files:\n",
    "        loader  = Docx2txtLoader(file)\n",
    "        data = loader.load()\n",
    "\n",
    "        text_splitter =  RecursiveCharacterTextSplitter(chunk_size =10000,chunk_overlap = 1000)\n",
    "        docs = text_splitter.split_documents(data)\n",
    "        # content = \"\"\n",
    "        # for para in document.paragraphs:\n",
    "        #     content += para.text + \"\\n\"\n",
    "        embeddings = process_in_batches(content,1000) \n",
    "        frame.append({'File Name':file,'Content':content,'Embeddings':embeddings})\n",
    "    return pd.DataFrame(frame)"
   ]
  },
  {
   "cell_type": "code",
   "execution_count": 14,
   "metadata": {},
   "outputs": [],
   "source": [
    "def create_embeddings(text):\n",
    "    model = 'models/embedding-001'\n",
    "    return genai.embed_content(\n",
    "        model = model,\n",
    "        content=text,\n",
    "        task_type='retrieval_document',\n",
    "    )[\"embedding\"]\n",
    "    \n",
    "    "
   ]
  },
  {
   "cell_type": "code",
   "execution_count": 15,
   "metadata": {},
   "outputs": [],
   "source": [
    "#process in batches\n",
    "\n",
    "def process_in_batches(chunks, batch_size):\n",
    "    start_index = 0\n",
    "    embeddings = []\n",
    "    while start_index < len(chunks):\n",
    "        end_index = start_index + batch_size\n",
    "        if start_index == 0:\n",
    "            data = chunks[start_index:end_index]\n",
    "            embeddings.append(create_embeddings(data))\n",
    "        else:\n",
    "            if end_index > len(chunks):\n",
    "                data = chunks[start_index:len(chunks)]\n",
    "            else:\n",
    "                data = chunks[start_index:end_index]\n",
    "            embeddings.append(create_embeddings(data))\n",
    "        start_index = end_index\n",
    "        return embeddings\n"
   ]
  },
  {
   "cell_type": "code",
   "execution_count": 16,
   "metadata": {},
   "outputs": [],
   "source": [
    "data =extract_content_from_files(folder)"
   ]
  },
  {
   "cell_type": "code",
   "execution_count": 54,
   "metadata": {},
   "outputs": [
    {
     "data": {
      "text/plain": [
       "<module 'langchain_community.vectorstores.chroma' from 'C:\\\\Users\\\\imbit\\\\AppData\\\\Local\\\\Programs\\\\Python\\\\Python312\\\\Lib\\\\site-packages\\\\langchain_community\\\\vectorstores\\\\chroma.py'>"
      ]
     },
     "execution_count": 54,
     "metadata": {},
     "output_type": "execute_result"
    }
   ],
   "source": []
  },
  {
   "cell_type": "markdown",
   "metadata": {},
   "source": [
    "Asking the Query and Checking the similarities"
   ]
  },
  {
   "cell_type": "code",
   "execution_count": 61,
   "metadata": {},
   "outputs": [
    {
     "data": {
      "text/plain": [
       "\"OVERVIEW 2022\\n\\nNotes relating to forward-looking statements\\n\\nThis document contains statements about the future business development and strategic direction of the Company. The forward-looking statements are based on management's current expectations and assumptions. They are subject to certain risks and fluctuations as described in other publications, in particular in the risk and opportunities management section of the combined management report. If these expectations and assumptions do not apply or if unforeseen risks arise, the actual course of business may differ significantly from the expected developments. We therefore assume no liability for the accuracy of these forecasts.\\n\\n\\n\\n\\n\\n\\n\\nThese sections contain content or cross-references not required by law, which were not audited by the auditor, but were merely read critically. In the case of cross- references, the information to which the cross- references refer was also not audited.\\n\\n\\n\\n\\n\\n\\n\\n\\n\\n➔HUBERT HINTERSEHER\\n\\nCHIEF FINANCIAL OFFICER PUMA\\n\\n\\n\\n\\n\\n\\n\\n\\n\\nIn 2022, the ongoing COVID-19 pandemic and the war in Ukraine required PUMA to be flexible and pragmatic. The health and safety of our PUMA Family was our top priority, while we executed our strategy to become the world’s fastest sports brand and continued our strong growth momentum.\\n\\n\\n\\n\\n\\n\\n\\nFrom the outset of the war in Ukraine, we focused on our employees, athletes and other partners, providing safe accommodation and welcoming many PUMA employees and their families in Germany and Poland, where we also helped arranging work permits and jobs.\\n\\nWe were impressed by the actions taken by our PUMA Family. Colleagues in Poland and Hungary waited at the borders to bring PUMA employees and ambassadors from Ukraine to safety. Others from our HQ in Herzogenaurach drove to Ukraine to\\n\\n\\n\\nbring necessities such as food and clothes to help those who had stayed in the country. We also gathered product donations for aid organizations in Ukraine to get help to those who needed it most.\\n\\n\\n\\nFor our efforts to provide an attractive workplace, PUMA was named a Top Employer 2022 in several regions of the world, including Europe and Asia/Pacific. We were listed by Forbes among the World’s Best Employers and by the Financial Times as a Leader in Diversity for Europe. In Germany, we were named “Company of the Year” at the German Diversity Awards and in Mexico we were among the best places to work for women in Expansión’s ranking “Súper Empresas Para Mujeres”.\\n\\nThe COVID-19 pandemic eased in Europe and the Americas, but the situation for our store network and our supply chain remained challenging in parts of Asia, especially in China, where our employees did an exceptional job despite the repeated lockdowns. The tireless work of our sourcing teams ensured that supply chain disruptions were kept to a minimum throughout the year.\\n\\nPUMA’s brand heat was boosted further by the great performances of our athletes, who underscored our credibility as a sports brand. At the World Athletics Championships in Eugene, Oregon, USA, Jamaican sprinter Shericka Jackson ran the second fastest 200m time in history, while Swedish pole vaulter Armand “Mondo” Duplantis set yet another world record of 6.21 meters and was named “World Athlete of the Year.” Another gold went to Portuguese athlete Pedro Pichardo in the triple jump with the best performance of the year.\\n\\nOur Ukrainian PUMA athlete Yaroslava Mahuchikh won the gold in the high jump at the World Indoor Championships in Belgrade, Serbia and the European Championships in Munich, Germany. Her win in Belgrade was a very emotional moment, after she took a difficult three-day journey by car at the start of the war in Ukraine to travel to the event in Serbia.\\n\\n\\n\\nOur athletes relied on the latest versions of our evoSPEED NITRO spikes, which are made with PUMA’s NITRO-Technology and a PWRPLATE for extraordinary energy return. NITRO is also an important part of our newest product line-up for long- distance and road running, such as the futuristic FAST-R NITRO Elite and the DEVIATE NITRO ELITE 2.\\n\\nWe also added to our roster of international top athletes in road running, by signing Norwegian Sondre Moen and US athlete Jenny Simpson.\\n\\nIn Football, our PUMA Team Morocco sensationally reached the semifinal of the World Cup in Qatar. Our players Antoine Griezmann, Olivier Giroud and Raphaël\\n\\n\\n\\nVarane were in the French starting line-up in the final. Neymar Jr. scored his 77th goal for the Brazilian national team, equaling the record of football icon Pelé.\\n\\nAhead of the tournament, we kicked off the “Generation Fearless” campaign, as part of which our global teamsport ambassadors presented our new ULTRA and the FUTURE 1.4 football boots.\\n\\nThe Women’s Euro in England confirmed the increasing popularity of women’s football in all markets. With Austria, Iceland, Italy and Switzerland, PUMA had four teams at the tournament and also generated great visibility with the more than 70 players who played in our boots. We equipped our players and teams with special collections and supported them with marketing campaigns ahead of the tournament.\\n\\n\\n\\nAmong club teams, PUMA teams AC Milan and Manchester City both won the title and Olympique de Marseille and Borussia Dortmund came in second in their respective leagues. In the Netherlands, PSV Eindhoven won the Dutch Cup. At the end of the season, PUMA secured a long-term contract extension with AC Milan and became the official match ball provider of the Italian football league Serie A, starting from the 2022/23 season.\\n\\nIn North America, PUMA works with LaMelo Ball, one of the most successful players in the NBA, and we created the very successful signature shoes MB.01 and MB.02 with him, which are sold exclusively at our strategic retail partner Foot Locker. Our basketball athlete Marcus Smart was named NBA Defensive Player of the Year while Jackie Young became the most improved player of the year in the WNBA. We expanded our roster of Basketball ambassadors with new signings such as Mikey Williams, Scoot Henderson and NaLyssa Smith.\\n\\nIn Golf, Cobra PUMA Golf athlete Ewen Ferguson won the Commercial Bank Qatar Masters and the ISPS Handa World Invitational, while Olivia Cowan claimed her maiden Ladies European Tour Victory in India at the Hero Women’s Open. Lexi Thompson took the trophy at the Aramaco series in NYC and once again joined the champions circle. Anna Nordqvist won in the The Netherlands and brought home the Big Green Egg Open. Finally, Justin Suh took his first win at the Korn Ferry Tour Championship, which paved his way onto the PGA Tour and gives him a spot in 2023 at The Players Championship and at the US Open.\\n\\nIn Motorsport, Red Bull Racing driver Max Verstappen secured another Formula 1 Drivers’ Championship, as PUMA supplied the three most successful teams in the sport: Scuderia Ferrari, Oracle Red Bull Racing and Mercedes-AMG Petronas F1. We benefited from the increasing popularity of the sport, especially in the United\\n\\n\\n\\nStates, where Miami hosted its first Grand Prix in 2022, which was immediately sold out.\\n\\n\\n\\nDuring our return to New York Fashion Week, our spectacular FUTROGRADE show included a digital Web3 experience. The runway show was curated by PUMA Creative Director June Ambrose and special appearances on the catwalk by our ambassadors such as Usain Bolt, Winnie Harlow and Yaroslava Mahuchikh created a lot of buzz in the press and on social media. With the FUTROGRADE event, we showed that the virtual world is becoming increasingly relevant for our young audience.\\n\\nIn 2022, we also unveiled our largest Web3 collaboration to date with 10KTF and launched “PUMA and the Land of Games” on the online gaming platform Roblox. We used the Roblox experience for a unique launch event, as we first presented Manchester City’s new third kit in “PUMA and the Land of Games”, giving players the first opportunity to explore and interact with the new kit in the virtual world.\\n\\n\\n\\n\\n\\nIn 2022, we launched our PUMA Shopping App in India, the United States, the UK and Japan. The app allows consumers to virtually try on selected products before they buy, see what the products look like in sophisticated 3D animations and make purchases. PUMA further strengthened its distribution by entering new markets with the PUMA.com online store in the Philippines, Thailand, Peru, Norway, Saudi Arabia and several other new countries in the Middle East and Africa.\\n\\nWe announced a long-term partnership with British-Nigerian rapper, and record producer Skepta, who will design product and be a part of global marketing campaigns. Deals with pop stars Eleni Foureira from Greece and Teodora from Serbia underlined our focus on local relevance to reach audiences around the world.\\n\\n\\n\\nIn September, we invited industry peers, activists, NGOs, experts, ambassadors, and consumers to London for our sustainability event Conference of the People, an open conversation about sustainability, which put the concerns of Gen Z at the center of the debate. It gave us the opportunity to explain our sustainability work in great detail, including the RE:SUEDE and RE:JERSEY circularity projects. For RE:SUEDE, we distributed 500 experimental pairs of our iconic SUEDE sneaker to consumers in Germany, who tested them for half a year before returning them, so we can establish whether the sneakers can be biodegraded in a controlled industrial setting. The RE:JERSEY recycling project was unveiled in partnership with our football teams Manchester City, AC Milan, Borussia Dortmund, Olympique de Marseille and Girona. In this project, we trial a chemical recycling process,\\n\\n\\n\\nwhich can turn old polyester garments into new polyester yarn and even deal with logos, embroideries and club badges. We expect to scale up the use of this chemical recycling process in the coming years.\""
      ]
     },
     "execution_count": 61,
     "metadata": {},
     "output_type": "execute_result"
    }
   ],
   "source": [
    "query = \"What Did PUMA do in India?\"\n",
    "docs = db.similarity_search(query)\n",
    "\n",
    "docs[0].page_content"
   ]
  },
  {
   "cell_type": "code",
   "execution_count": 19,
   "metadata": {},
   "outputs": [],
   "source": [
    "def get_similar_answer(query,dataframe):\n",
    "    query_embedding = genai.embed_content(\n",
    "        model = model,\n",
    "        content=query,\n",
    "        task_type='retrieval_query',\n",
    "    )\n",
    "    # Using dot product of stacked/accu,lated dataframe embeddings and query embedding\n",
    "    dot_products = np.dot(np.stack(dataframe['Embeddings']),query_embedding[\"embedding\"])\n",
    "    idxs = np.argmax(dot_products)\n",
    "    \n",
    "    \n",
    "    "
   ]
  },
  {
   "cell_type": "code",
   "execution_count": 20,
   "metadata": {},
   "outputs": [],
   "source": [
    " dot_products = np.dot(np.stack(data['Embeddings']),request[\"embedding\"])"
   ]
  },
  {
   "cell_type": "code",
   "execution_count": 21,
   "metadata": {},
   "outputs": [
    {
     "data": {
      "text/plain": [
       "array([[0.66765165]])"
      ]
     },
     "execution_count": 21,
     "metadata": {},
     "output_type": "execute_result"
    }
   ],
   "source": [
    "dot_products"
   ]
  },
  {
   "cell_type": "code",
   "execution_count": 25,
   "metadata": {},
   "outputs": [
    {
     "ename": "ModuleNotFoundError",
     "evalue": "No module named 'pwd'",
     "output_type": "error",
     "traceback": [
      "\u001b[1;31m---------------------------------------------------------------------------\u001b[0m",
      "\u001b[1;31mModuleNotFoundError\u001b[0m                       Traceback (most recent call last)",
      "Cell \u001b[1;32mIn[25], line 1\u001b[0m\n\u001b[1;32m----> 1\u001b[0m \u001b[38;5;28;01mfrom\u001b[39;00m \u001b[38;5;21;01mlangchain_community\u001b[39;00m\u001b[38;5;21;01m.\u001b[39;00m\u001b[38;5;21;01mdocument_loaders\u001b[39;00m \u001b[38;5;28;01mimport\u001b[39;00m TextLoader\n\u001b[0;32m      3\u001b[0m loader \u001b[38;5;241m=\u001b[39m TextLoader(\u001b[38;5;124m\"\u001b[39m\u001b[38;5;124mC:/Users/imbit/Downloads/Overview 2022 _ Puma AR 2022.pdf\u001b[39m\u001b[38;5;124m\"\u001b[39m)\n\u001b[0;32m      4\u001b[0m loader\u001b[38;5;241m.\u001b[39mload()\n",
      "File \u001b[1;32m~\\AppData\\Local\\Programs\\Python\\Python312\\Lib\\site-packages\\langchain_community\\document_loaders\\__init__.py:163\u001b[0m\n\u001b[0;32m    149\u001b[0m \u001b[38;5;28;01mfrom\u001b[39;00m \u001b[38;5;21;01mlangchain_community\u001b[39;00m\u001b[38;5;21;01m.\u001b[39;00m\u001b[38;5;21;01mdocument_loaders\u001b[39;00m\u001b[38;5;21;01m.\u001b[39;00m\u001b[38;5;21;01morg_mode\u001b[39;00m \u001b[38;5;28;01mimport\u001b[39;00m UnstructuredOrgModeLoader\n\u001b[0;32m    150\u001b[0m \u001b[38;5;28;01mfrom\u001b[39;00m \u001b[38;5;21;01mlangchain_community\u001b[39;00m\u001b[38;5;21;01m.\u001b[39;00m\u001b[38;5;21;01mdocument_loaders\u001b[39;00m\u001b[38;5;21;01m.\u001b[39;00m\u001b[38;5;21;01mpdf\u001b[39;00m \u001b[38;5;28;01mimport\u001b[39;00m (\n\u001b[0;32m    151\u001b[0m     AmazonTextractPDFLoader,\n\u001b[0;32m    152\u001b[0m     MathpixPDFLoader,\n\u001b[1;32m   (...)\u001b[0m\n\u001b[0;32m    161\u001b[0m     UnstructuredPDFLoader,\n\u001b[0;32m    162\u001b[0m )\n\u001b[1;32m--> 163\u001b[0m \u001b[38;5;28;01mfrom\u001b[39;00m \u001b[38;5;21;01mlangchain_community\u001b[39;00m\u001b[38;5;21;01m.\u001b[39;00m\u001b[38;5;21;01mdocument_loaders\u001b[39;00m\u001b[38;5;21;01m.\u001b[39;00m\u001b[38;5;21;01mpebblo\u001b[39;00m \u001b[38;5;28;01mimport\u001b[39;00m PebbloSafeLoader\n\u001b[0;32m    164\u001b[0m \u001b[38;5;28;01mfrom\u001b[39;00m \u001b[38;5;21;01mlangchain_community\u001b[39;00m\u001b[38;5;21;01m.\u001b[39;00m\u001b[38;5;21;01mdocument_loaders\u001b[39;00m\u001b[38;5;21;01m.\u001b[39;00m\u001b[38;5;21;01mpolars_dataframe\u001b[39;00m \u001b[38;5;28;01mimport\u001b[39;00m PolarsDataFrameLoader\n\u001b[0;32m    165\u001b[0m \u001b[38;5;28;01mfrom\u001b[39;00m \u001b[38;5;21;01mlangchain_community\u001b[39;00m\u001b[38;5;21;01m.\u001b[39;00m\u001b[38;5;21;01mdocument_loaders\u001b[39;00m\u001b[38;5;21;01m.\u001b[39;00m\u001b[38;5;21;01mpowerpoint\u001b[39;00m \u001b[38;5;28;01mimport\u001b[39;00m UnstructuredPowerPointLoader\n",
      "File \u001b[1;32m~\\AppData\\Local\\Programs\\Python\\Python312\\Lib\\site-packages\\langchain_community\\document_loaders\\pebblo.py:5\u001b[0m\n\u001b[0;32m      3\u001b[0m \u001b[38;5;28;01mimport\u001b[39;00m \u001b[38;5;21;01mlogging\u001b[39;00m\n\u001b[0;32m      4\u001b[0m \u001b[38;5;28;01mimport\u001b[39;00m \u001b[38;5;21;01mos\u001b[39;00m\n\u001b[1;32m----> 5\u001b[0m \u001b[38;5;28;01mimport\u001b[39;00m \u001b[38;5;21;01mpwd\u001b[39;00m\n\u001b[0;32m      6\u001b[0m \u001b[38;5;28;01mimport\u001b[39;00m \u001b[38;5;21;01muuid\u001b[39;00m\n\u001b[0;32m      7\u001b[0m \u001b[38;5;28;01mfrom\u001b[39;00m \u001b[38;5;21;01mhttp\u001b[39;00m \u001b[38;5;28;01mimport\u001b[39;00m HTTPStatus\n",
      "\u001b[1;31mModuleNotFoundError\u001b[0m: No module named 'pwd'"
     ]
    }
   ],
   "source": [
    "from langchain_community.document_loaders import TextLoader\n",
    "\n",
    "loader = TextLoader(\"C:/Users/imbit/Downloads/Overview 2022 _ Puma AR 2022.pdf\")\n",
    "loader.load()"
   ]
  },
  {
   "cell_type": "code",
   "execution_count": null,
   "metadata": {},
   "outputs": [],
   "source": []
  }
 ],
 "metadata": {
  "kernelspec": {
   "display_name": "Python 3 (ipykernel)",
   "language": "python",
   "name": "python3"
  },
  "language_info": {
   "codemirror_mode": {
    "name": "ipython",
    "version": 3
   },
   "file_extension": ".py",
   "mimetype": "text/x-python",
   "name": "python",
   "nbconvert_exporter": "python",
   "pygments_lexer": "ipython3",
   "version": "3.12.2"
  }
 },
 "nbformat": 4,
 "nbformat_minor": 4
}
